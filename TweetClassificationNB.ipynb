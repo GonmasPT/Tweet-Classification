{
 "cells": [
  {
   "metadata": {},
   "cell_type": "markdown",
   "source": [
    "In this notebook we will be experimenting multiple models: \\\n",
    "Experiment 0: baseline model (multinomialNB) \\\n",
    "Experiment 1: simple model with an embedding layer \\\n",
    "Experiment 2: same as before but using transfer learning for the embedding layer \\\n",
    "Experiment 3: BERT \\\n",
    "Experiment 4: Openai model \\\n",
    "(note to run experiment 4 you will need a .env file with your own Openai API key)"
   ],
   "id": "74717bcf17fe7c42"
  },
  {
   "cell_type": "code",
   "id": "initial_id",
   "metadata": {
    "collapsed": true,
    "ExecuteTime": {
     "end_time": "2024-06-12T13:51:05.827768Z",
     "start_time": "2024-06-12T13:50:58.058396Z"
    }
   },
   "source": [
    "# Surpress warnings\n",
    "import os\n",
    "\n",
    "from datasets.utils import hub\n",
    "\n",
    "os.environ['TF_CPP_MIN_LOG_LEVEL'] = '3' # or any {‘0’, ‘1’, ‘2’}\n",
    "\n",
    "import tensorflow as tf\n",
    "import tensorflow_datasets as tfds\n",
    "import matplotlib.pyplot as plt\n",
    "from tensorflow.keras import layers\n",
    "import random\n",
    "import numpy as np\n",
    "from sklearn.feature_extraction.text import TfidfVectorizer\n",
    "from sklearn.naive_bayes import MultinomialNB\n",
    "import tensorflow_hub as hub\n",
    "import tensorflow_text as text"
   ],
   "outputs": [],
   "execution_count": 1
  },
  {
   "metadata": {
    "ExecuteTime": {
     "end_time": "2024-06-12T13:51:07.524408Z",
     "start_time": "2024-06-12T13:51:05.830595Z"
    }
   },
   "cell_type": "code",
   "source": [
    "# Download dataset\n",
    "dataset_name = \"imdb_reviews/plain_text\"\n",
    "(train_data, test_data), ds_info = tfds.load(dataset_name,\n",
    "                                              split=(\"train\", \"test\"),\n",
    "                                              shuffle_files=True,\n",
    "                                              as_supervised=True,\n",
    "                                              with_info=True)"
   ],
   "id": "eb5e008cfd87a937",
   "outputs": [],
   "execution_count": 2
  },
  {
   "metadata": {
    "ExecuteTime": {
     "end_time": "2024-06-12T13:51:07.534494Z",
     "start_time": "2024-06-12T13:51:07.526745Z"
    }
   },
   "cell_type": "code",
   "source": [
    "# Check if this is a binary or multi-class classification problem\n",
    "class_names = ds_info.features[\"label\"].names\n",
    "class_names"
   ],
   "id": "a10419e714c1c3c8",
   "outputs": [
    {
     "data": {
      "text/plain": [
       "['neg', 'pos']"
      ]
     },
     "execution_count": 3,
     "metadata": {},
     "output_type": "execute_result"
    }
   ],
   "execution_count": 3
  },
  {
   "metadata": {
    "ExecuteTime": {
     "end_time": "2024-06-12T13:51:18.931401Z",
     "start_time": "2024-06-12T13:51:07.537611Z"
    }
   },
   "cell_type": "code",
   "source": [
    "# Lets get our datasets in a more practical format\n",
    "train_text = []\n",
    "train_labels = []\n",
    "test_text = []\n",
    "test_labels = []\n",
    "\n",
    "for train_sample, test_sample in zip(train_data, test_data): # Both datasets have size 25000\n",
    "    train_text.append(train_sample[0].numpy().decode()) \n",
    "    train_labels.append(train_sample[1].numpy())\n",
    "    test_text.append(test_sample[0].numpy().decode()) \n",
    "    test_labels.append(test_sample[1].numpy())"
   ],
   "id": "14a6f91bb43f157f",
   "outputs": [],
   "execution_count": 4
  },
  {
   "metadata": {
    "ExecuteTime": {
     "end_time": "2024-06-12T13:51:18.938108Z",
     "start_time": "2024-06-12T13:51:18.933286Z"
    }
   },
   "cell_type": "code",
   "source": [
    "# Explore the dataset\n",
    "random_index = random.randint(0, len(train_text)-5)\n",
    "for text, label in zip(train_text[random_index:random_index+5], train_labels[random_index:random_index+5]):\n",
    "    print(f\"Sentiment: {class_names[label]}\")\n",
    "    print(f\"Text: {text}\\n\\n\")"
   ],
   "id": "6d21d8f8d26dcab4",
   "outputs": [
    {
     "name": "stdout",
     "output_type": "stream",
     "text": [
      "Sentiment: pos\n",
      "Text: I first watched the Walking Tall movies when I was about 8 years old and I thought both Joe Don Baker and Bo Svenson did a great job, they must have anyway because since watching the movies, I have tried to learn as much about the real Sheriff Buford Pusser as I can. All 3 parts of the movie gave me chills and Buford Pusser was a true hero, I only wish he were alive today and that there were more people like him. I would love to thank him for getting rid of all the crime and being so brave. I am very sorry that his family had to go through such horror and pain. My heart goes out to them. So from a 30 year old fan of Sheriff Pusser and of the 3-part Walking Tall movies and the actors that portrayed him, please do not be negative about these movies and actors, they were only trying to let us know what a wonderful man the real Buford Pusser was and what a great family he had. And to all the young people who may have not heard much about Buford, I suggest you watch the Walking Tall movies and learn more about him.\n",
      "\n",
      "\n",
      "Sentiment: pos\n",
      "Text: MPAA:Rated R for Violence,Language,Nudity and Brief Drug Use. Quebec Rating:13+ Canadian Home Video Rating:18A<br /><br />I saw Coonskin today.This film is also known as Bustin Out and Street Fight.After watching Fritz The Cat,I wanted to see more of Bashki's films.I saw Cool World and thought it was mediocre and I saw this.When it was first released, the film was very controversial.It was considered racist and Al Sharpton wanted the film banned, he even led protests outside the theatre where the film was playing.The film was only released on VHS under the title \"Street Fight\".It is now considered a cult-classic film and African-American celebrities such as comedian Richard Pryor,director Spike Lee and the rap group The Wu-Tang Clan are said to have enjoyed this film.I personally thought Fritz The Cat was a much better film but this is very enjoyable as well.Worth watching for Bashki or Blaxploitation film fans.The film mixes live action and animation sort of like the film Who Framed Roger Rabbit.I would have preferred it in full animation but whatever.The film starts off with a reverend and another man racing to rescue two of their friends from prison.While the prisoners wait,the older one tells a story of three men he knew.The film then switches into animation format, we see three black men who sold their house to this man.They decide to make names for themselves in Harlem.So the leader, a black rabbit, kills a big player in Harlem and he basically becomes a big shot.The film moves on as the Italian mafia want him out.The mafia involves the godfather,his three sons who are homosexual and an Italian clown.Coonskin is an entertaining animated film that's worth checking out, if you can find it.\n",
      "\n",
      "\n",
      "Sentiment: neg\n",
      "Text: this is a piece of s--t!! this looks worse than a made for t.v. movie. and i shutter to think that a sequel was even concieved and the results... war is prettier than this. jean claude van shame has done it again and he wonders why his career is where it is now. no script, no story and no time should be wasted on this. i mean that. 1 out of 10 is too high, way too high. goldberg should be jackhammered for this. van shame is no actor.\n",
      "\n",
      "\n",
      "Sentiment: pos\n",
      "Text: Victor McLaglen's performance is one of the finest in film history.<br /><br />I think we can all feel for \"Gypo\" because we've all struggled with what is right and what isn't and been wrong. This was one of the first art-house pictures to be released by a major American movie studio (RKO Radio Pictures).<br /><br />Joseph H. August's cinematography is at its very best here. However, August's stunning portion was mostly overlooked; he didn't receive the Oscar nomination he rightly deserved.<br /><br />This is a psychological drama, with thought, philosophy, sadness, all conveyed with as little words as possible.\n",
      "\n",
      "\n",
      "Sentiment: neg\n",
      "Text: Sure, it had some of the makings of a good film. The storyline is good, if a bit bland and the acting was good enough though I didn't understand why Olivia d'Abo had such a pronounced Australian accent if her character was supposed to have been raised in the US. My biggest problem, however, was with the wardrobe. I know as rule, the average American is considered a frumpy dresser by any self-respecting European but this was beyond that. Anna's colour combinations were positively ghastly!! And that potato sack-like, sad excuse for a coat she wore throughout the film made me break out in hives. I suppose the idea was to be as realistic as possible (how many school teachers walk around in Prada?) but simple doesn't mean an absolute lack of taste. A word to the wise...\n",
      "\n",
      "\n"
     ]
    }
   ],
   "execution_count": 5
  },
  {
   "metadata": {},
   "cell_type": "markdown",
   "source": "Experiment 0",
   "id": "d05ec8fbf0088c78"
  },
  {
   "metadata": {
    "ExecuteTime": {
     "end_time": "2024-06-12T13:51:19.195577Z",
     "start_time": "2024-06-12T13:51:18.940038Z"
    }
   },
   "cell_type": "code",
   "source": [
    "# Check average length of text data\n",
    "average_length = round(sum([len(text.split()) for text in train_text]) / len(train_text))\n",
    "average_length"
   ],
   "id": "72f4c709cb29a7da",
   "outputs": [
    {
     "data": {
      "text/plain": [
       "234"
      ]
     },
     "execution_count": 6,
     "metadata": {},
     "output_type": "execute_result"
    }
   ],
   "execution_count": 6
  },
  {
   "metadata": {
    "ExecuteTime": {
     "end_time": "2024-06-11T20:36:59.990226Z",
     "start_time": "2024-06-11T20:36:51.339961Z"
    }
   },
   "cell_type": "code",
   "source": [
    "# Prepare data for the baseline model\n",
    "vectorizer = TfidfVectorizer()\n",
    "train_vectors = vectorizer.fit_transform(train_text)\n",
    "test_vectors = vectorizer.transform(test_text)"
   ],
   "id": "de19d76a01e2167b",
   "outputs": [],
   "execution_count": 7
  },
  {
   "metadata": {
    "ExecuteTime": {
     "end_time": "2024-06-11T20:37:09.862908Z",
     "start_time": "2024-06-11T20:37:09.796423Z"
    }
   },
   "cell_type": "code",
   "source": [
    "# Create a baseline model\n",
    "baseline_model = MultinomialNB()\n",
    "baseline_model.fit(train_vectors, train_labels)"
   ],
   "id": "df928aeefb990f39",
   "outputs": [
    {
     "data": {
      "text/plain": [
       "MultinomialNB()"
      ],
      "text/html": [
       "<style>#sk-container-id-1 {\n",
       "  /* Definition of color scheme common for light and dark mode */\n",
       "  --sklearn-color-text: black;\n",
       "  --sklearn-color-line: gray;\n",
       "  /* Definition of color scheme for unfitted estimators */\n",
       "  --sklearn-color-unfitted-level-0: #fff5e6;\n",
       "  --sklearn-color-unfitted-level-1: #f6e4d2;\n",
       "  --sklearn-color-unfitted-level-2: #ffe0b3;\n",
       "  --sklearn-color-unfitted-level-3: chocolate;\n",
       "  /* Definition of color scheme for fitted estimators */\n",
       "  --sklearn-color-fitted-level-0: #f0f8ff;\n",
       "  --sklearn-color-fitted-level-1: #d4ebff;\n",
       "  --sklearn-color-fitted-level-2: #b3dbfd;\n",
       "  --sklearn-color-fitted-level-3: cornflowerblue;\n",
       "\n",
       "  /* Specific color for light theme */\n",
       "  --sklearn-color-text-on-default-background: var(--sg-text-color, var(--theme-code-foreground, var(--jp-content-font-color1, black)));\n",
       "  --sklearn-color-background: var(--sg-background-color, var(--theme-background, var(--jp-layout-color0, white)));\n",
       "  --sklearn-color-border-box: var(--sg-text-color, var(--theme-code-foreground, var(--jp-content-font-color1, black)));\n",
       "  --sklearn-color-icon: #696969;\n",
       "\n",
       "  @media (prefers-color-scheme: dark) {\n",
       "    /* Redefinition of color scheme for dark theme */\n",
       "    --sklearn-color-text-on-default-background: var(--sg-text-color, var(--theme-code-foreground, var(--jp-content-font-color1, white)));\n",
       "    --sklearn-color-background: var(--sg-background-color, var(--theme-background, var(--jp-layout-color0, #111)));\n",
       "    --sklearn-color-border-box: var(--sg-text-color, var(--theme-code-foreground, var(--jp-content-font-color1, white)));\n",
       "    --sklearn-color-icon: #878787;\n",
       "  }\n",
       "}\n",
       "\n",
       "#sk-container-id-1 {\n",
       "  color: var(--sklearn-color-text);\n",
       "}\n",
       "\n",
       "#sk-container-id-1 pre {\n",
       "  padding: 0;\n",
       "}\n",
       "\n",
       "#sk-container-id-1 input.sk-hidden--visually {\n",
       "  border: 0;\n",
       "  clip: rect(1px 1px 1px 1px);\n",
       "  clip: rect(1px, 1px, 1px, 1px);\n",
       "  height: 1px;\n",
       "  margin: -1px;\n",
       "  overflow: hidden;\n",
       "  padding: 0;\n",
       "  position: absolute;\n",
       "  width: 1px;\n",
       "}\n",
       "\n",
       "#sk-container-id-1 div.sk-dashed-wrapped {\n",
       "  border: 1px dashed var(--sklearn-color-line);\n",
       "  margin: 0 0.4em 0.5em 0.4em;\n",
       "  box-sizing: border-box;\n",
       "  padding-bottom: 0.4em;\n",
       "  background-color: var(--sklearn-color-background);\n",
       "}\n",
       "\n",
       "#sk-container-id-1 div.sk-container {\n",
       "  /* jupyter's `normalize.less` sets `[hidden] { display: none; }`\n",
       "     but bootstrap.min.css set `[hidden] { display: none !important; }`\n",
       "     so we also need the `!important` here to be able to override the\n",
       "     default hidden behavior on the sphinx rendered scikit-learn.org.\n",
       "     See: https://github.com/scikit-learn/scikit-learn/issues/21755 */\n",
       "  display: inline-block !important;\n",
       "  position: relative;\n",
       "}\n",
       "\n",
       "#sk-container-id-1 div.sk-text-repr-fallback {\n",
       "  display: none;\n",
       "}\n",
       "\n",
       "div.sk-parallel-item,\n",
       "div.sk-serial,\n",
       "div.sk-item {\n",
       "  /* draw centered vertical line to link estimators */\n",
       "  background-image: linear-gradient(var(--sklearn-color-text-on-default-background), var(--sklearn-color-text-on-default-background));\n",
       "  background-size: 2px 100%;\n",
       "  background-repeat: no-repeat;\n",
       "  background-position: center center;\n",
       "}\n",
       "\n",
       "/* Parallel-specific style estimator block */\n",
       "\n",
       "#sk-container-id-1 div.sk-parallel-item::after {\n",
       "  content: \"\";\n",
       "  width: 100%;\n",
       "  border-bottom: 2px solid var(--sklearn-color-text-on-default-background);\n",
       "  flex-grow: 1;\n",
       "}\n",
       "\n",
       "#sk-container-id-1 div.sk-parallel {\n",
       "  display: flex;\n",
       "  align-items: stretch;\n",
       "  justify-content: center;\n",
       "  background-color: var(--sklearn-color-background);\n",
       "  position: relative;\n",
       "}\n",
       "\n",
       "#sk-container-id-1 div.sk-parallel-item {\n",
       "  display: flex;\n",
       "  flex-direction: column;\n",
       "}\n",
       "\n",
       "#sk-container-id-1 div.sk-parallel-item:first-child::after {\n",
       "  align-self: flex-end;\n",
       "  width: 50%;\n",
       "}\n",
       "\n",
       "#sk-container-id-1 div.sk-parallel-item:last-child::after {\n",
       "  align-self: flex-start;\n",
       "  width: 50%;\n",
       "}\n",
       "\n",
       "#sk-container-id-1 div.sk-parallel-item:only-child::after {\n",
       "  width: 0;\n",
       "}\n",
       "\n",
       "/* Serial-specific style estimator block */\n",
       "\n",
       "#sk-container-id-1 div.sk-serial {\n",
       "  display: flex;\n",
       "  flex-direction: column;\n",
       "  align-items: center;\n",
       "  background-color: var(--sklearn-color-background);\n",
       "  padding-right: 1em;\n",
       "  padding-left: 1em;\n",
       "}\n",
       "\n",
       "\n",
       "/* Toggleable style: style used for estimator/Pipeline/ColumnTransformer box that is\n",
       "clickable and can be expanded/collapsed.\n",
       "- Pipeline and ColumnTransformer use this feature and define the default style\n",
       "- Estimators will overwrite some part of the style using the `sk-estimator` class\n",
       "*/\n",
       "\n",
       "/* Pipeline and ColumnTransformer style (default) */\n",
       "\n",
       "#sk-container-id-1 div.sk-toggleable {\n",
       "  /* Default theme specific background. It is overwritten whether we have a\n",
       "  specific estimator or a Pipeline/ColumnTransformer */\n",
       "  background-color: var(--sklearn-color-background);\n",
       "}\n",
       "\n",
       "/* Toggleable label */\n",
       "#sk-container-id-1 label.sk-toggleable__label {\n",
       "  cursor: pointer;\n",
       "  display: block;\n",
       "  width: 100%;\n",
       "  margin-bottom: 0;\n",
       "  padding: 0.5em;\n",
       "  box-sizing: border-box;\n",
       "  text-align: center;\n",
       "}\n",
       "\n",
       "#sk-container-id-1 label.sk-toggleable__label-arrow:before {\n",
       "  /* Arrow on the left of the label */\n",
       "  content: \"▸\";\n",
       "  float: left;\n",
       "  margin-right: 0.25em;\n",
       "  color: var(--sklearn-color-icon);\n",
       "}\n",
       "\n",
       "#sk-container-id-1 label.sk-toggleable__label-arrow:hover:before {\n",
       "  color: var(--sklearn-color-text);\n",
       "}\n",
       "\n",
       "/* Toggleable content - dropdown */\n",
       "\n",
       "#sk-container-id-1 div.sk-toggleable__content {\n",
       "  max-height: 0;\n",
       "  max-width: 0;\n",
       "  overflow: hidden;\n",
       "  text-align: left;\n",
       "  /* unfitted */\n",
       "  background-color: var(--sklearn-color-unfitted-level-0);\n",
       "}\n",
       "\n",
       "#sk-container-id-1 div.sk-toggleable__content.fitted {\n",
       "  /* fitted */\n",
       "  background-color: var(--sklearn-color-fitted-level-0);\n",
       "}\n",
       "\n",
       "#sk-container-id-1 div.sk-toggleable__content pre {\n",
       "  margin: 0.2em;\n",
       "  border-radius: 0.25em;\n",
       "  color: var(--sklearn-color-text);\n",
       "  /* unfitted */\n",
       "  background-color: var(--sklearn-color-unfitted-level-0);\n",
       "}\n",
       "\n",
       "#sk-container-id-1 div.sk-toggleable__content.fitted pre {\n",
       "  /* unfitted */\n",
       "  background-color: var(--sklearn-color-fitted-level-0);\n",
       "}\n",
       "\n",
       "#sk-container-id-1 input.sk-toggleable__control:checked~div.sk-toggleable__content {\n",
       "  /* Expand drop-down */\n",
       "  max-height: 200px;\n",
       "  max-width: 100%;\n",
       "  overflow: auto;\n",
       "}\n",
       "\n",
       "#sk-container-id-1 input.sk-toggleable__control:checked~label.sk-toggleable__label-arrow:before {\n",
       "  content: \"▾\";\n",
       "}\n",
       "\n",
       "/* Pipeline/ColumnTransformer-specific style */\n",
       "\n",
       "#sk-container-id-1 div.sk-label input.sk-toggleable__control:checked~label.sk-toggleable__label {\n",
       "  color: var(--sklearn-color-text);\n",
       "  background-color: var(--sklearn-color-unfitted-level-2);\n",
       "}\n",
       "\n",
       "#sk-container-id-1 div.sk-label.fitted input.sk-toggleable__control:checked~label.sk-toggleable__label {\n",
       "  background-color: var(--sklearn-color-fitted-level-2);\n",
       "}\n",
       "\n",
       "/* Estimator-specific style */\n",
       "\n",
       "/* Colorize estimator box */\n",
       "#sk-container-id-1 div.sk-estimator input.sk-toggleable__control:checked~label.sk-toggleable__label {\n",
       "  /* unfitted */\n",
       "  background-color: var(--sklearn-color-unfitted-level-2);\n",
       "}\n",
       "\n",
       "#sk-container-id-1 div.sk-estimator.fitted input.sk-toggleable__control:checked~label.sk-toggleable__label {\n",
       "  /* fitted */\n",
       "  background-color: var(--sklearn-color-fitted-level-2);\n",
       "}\n",
       "\n",
       "#sk-container-id-1 div.sk-label label.sk-toggleable__label,\n",
       "#sk-container-id-1 div.sk-label label {\n",
       "  /* The background is the default theme color */\n",
       "  color: var(--sklearn-color-text-on-default-background);\n",
       "}\n",
       "\n",
       "/* On hover, darken the color of the background */\n",
       "#sk-container-id-1 div.sk-label:hover label.sk-toggleable__label {\n",
       "  color: var(--sklearn-color-text);\n",
       "  background-color: var(--sklearn-color-unfitted-level-2);\n",
       "}\n",
       "\n",
       "/* Label box, darken color on hover, fitted */\n",
       "#sk-container-id-1 div.sk-label.fitted:hover label.sk-toggleable__label.fitted {\n",
       "  color: var(--sklearn-color-text);\n",
       "  background-color: var(--sklearn-color-fitted-level-2);\n",
       "}\n",
       "\n",
       "/* Estimator label */\n",
       "\n",
       "#sk-container-id-1 div.sk-label label {\n",
       "  font-family: monospace;\n",
       "  font-weight: bold;\n",
       "  display: inline-block;\n",
       "  line-height: 1.2em;\n",
       "}\n",
       "\n",
       "#sk-container-id-1 div.sk-label-container {\n",
       "  text-align: center;\n",
       "}\n",
       "\n",
       "/* Estimator-specific */\n",
       "#sk-container-id-1 div.sk-estimator {\n",
       "  font-family: monospace;\n",
       "  border: 1px dotted var(--sklearn-color-border-box);\n",
       "  border-radius: 0.25em;\n",
       "  box-sizing: border-box;\n",
       "  margin-bottom: 0.5em;\n",
       "  /* unfitted */\n",
       "  background-color: var(--sklearn-color-unfitted-level-0);\n",
       "}\n",
       "\n",
       "#sk-container-id-1 div.sk-estimator.fitted {\n",
       "  /* fitted */\n",
       "  background-color: var(--sklearn-color-fitted-level-0);\n",
       "}\n",
       "\n",
       "/* on hover */\n",
       "#sk-container-id-1 div.sk-estimator:hover {\n",
       "  /* unfitted */\n",
       "  background-color: var(--sklearn-color-unfitted-level-2);\n",
       "}\n",
       "\n",
       "#sk-container-id-1 div.sk-estimator.fitted:hover {\n",
       "  /* fitted */\n",
       "  background-color: var(--sklearn-color-fitted-level-2);\n",
       "}\n",
       "\n",
       "/* Specification for estimator info (e.g. \"i\" and \"?\") */\n",
       "\n",
       "/* Common style for \"i\" and \"?\" */\n",
       "\n",
       ".sk-estimator-doc-link,\n",
       "a:link.sk-estimator-doc-link,\n",
       "a:visited.sk-estimator-doc-link {\n",
       "  float: right;\n",
       "  font-size: smaller;\n",
       "  line-height: 1em;\n",
       "  font-family: monospace;\n",
       "  background-color: var(--sklearn-color-background);\n",
       "  border-radius: 1em;\n",
       "  height: 1em;\n",
       "  width: 1em;\n",
       "  text-decoration: none !important;\n",
       "  margin-left: 1ex;\n",
       "  /* unfitted */\n",
       "  border: var(--sklearn-color-unfitted-level-1) 1pt solid;\n",
       "  color: var(--sklearn-color-unfitted-level-1);\n",
       "}\n",
       "\n",
       ".sk-estimator-doc-link.fitted,\n",
       "a:link.sk-estimator-doc-link.fitted,\n",
       "a:visited.sk-estimator-doc-link.fitted {\n",
       "  /* fitted */\n",
       "  border: var(--sklearn-color-fitted-level-1) 1pt solid;\n",
       "  color: var(--sklearn-color-fitted-level-1);\n",
       "}\n",
       "\n",
       "/* On hover */\n",
       "div.sk-estimator:hover .sk-estimator-doc-link:hover,\n",
       ".sk-estimator-doc-link:hover,\n",
       "div.sk-label-container:hover .sk-estimator-doc-link:hover,\n",
       ".sk-estimator-doc-link:hover {\n",
       "  /* unfitted */\n",
       "  background-color: var(--sklearn-color-unfitted-level-3);\n",
       "  color: var(--sklearn-color-background);\n",
       "  text-decoration: none;\n",
       "}\n",
       "\n",
       "div.sk-estimator.fitted:hover .sk-estimator-doc-link.fitted:hover,\n",
       ".sk-estimator-doc-link.fitted:hover,\n",
       "div.sk-label-container:hover .sk-estimator-doc-link.fitted:hover,\n",
       ".sk-estimator-doc-link.fitted:hover {\n",
       "  /* fitted */\n",
       "  background-color: var(--sklearn-color-fitted-level-3);\n",
       "  color: var(--sklearn-color-background);\n",
       "  text-decoration: none;\n",
       "}\n",
       "\n",
       "/* Span, style for the box shown on hovering the info icon */\n",
       ".sk-estimator-doc-link span {\n",
       "  display: none;\n",
       "  z-index: 9999;\n",
       "  position: relative;\n",
       "  font-weight: normal;\n",
       "  right: .2ex;\n",
       "  padding: .5ex;\n",
       "  margin: .5ex;\n",
       "  width: min-content;\n",
       "  min-width: 20ex;\n",
       "  max-width: 50ex;\n",
       "  color: var(--sklearn-color-text);\n",
       "  box-shadow: 2pt 2pt 4pt #999;\n",
       "  /* unfitted */\n",
       "  background: var(--sklearn-color-unfitted-level-0);\n",
       "  border: .5pt solid var(--sklearn-color-unfitted-level-3);\n",
       "}\n",
       "\n",
       ".sk-estimator-doc-link.fitted span {\n",
       "  /* fitted */\n",
       "  background: var(--sklearn-color-fitted-level-0);\n",
       "  border: var(--sklearn-color-fitted-level-3);\n",
       "}\n",
       "\n",
       ".sk-estimator-doc-link:hover span {\n",
       "  display: block;\n",
       "}\n",
       "\n",
       "/* \"?\"-specific style due to the `<a>` HTML tag */\n",
       "\n",
       "#sk-container-id-1 a.estimator_doc_link {\n",
       "  float: right;\n",
       "  font-size: 1rem;\n",
       "  line-height: 1em;\n",
       "  font-family: monospace;\n",
       "  background-color: var(--sklearn-color-background);\n",
       "  border-radius: 1rem;\n",
       "  height: 1rem;\n",
       "  width: 1rem;\n",
       "  text-decoration: none;\n",
       "  /* unfitted */\n",
       "  color: var(--sklearn-color-unfitted-level-1);\n",
       "  border: var(--sklearn-color-unfitted-level-1) 1pt solid;\n",
       "}\n",
       "\n",
       "#sk-container-id-1 a.estimator_doc_link.fitted {\n",
       "  /* fitted */\n",
       "  border: var(--sklearn-color-fitted-level-1) 1pt solid;\n",
       "  color: var(--sklearn-color-fitted-level-1);\n",
       "}\n",
       "\n",
       "/* On hover */\n",
       "#sk-container-id-1 a.estimator_doc_link:hover {\n",
       "  /* unfitted */\n",
       "  background-color: var(--sklearn-color-unfitted-level-3);\n",
       "  color: var(--sklearn-color-background);\n",
       "  text-decoration: none;\n",
       "}\n",
       "\n",
       "#sk-container-id-1 a.estimator_doc_link.fitted:hover {\n",
       "  /* fitted */\n",
       "  background-color: var(--sklearn-color-fitted-level-3);\n",
       "}\n",
       "</style><div id=\"sk-container-id-1\" class=\"sk-top-container\"><div class=\"sk-text-repr-fallback\"><pre>MultinomialNB()</pre><b>In a Jupyter environment, please rerun this cell to show the HTML representation or trust the notebook. <br />On GitHub, the HTML representation is unable to render, please try loading this page with nbviewer.org.</b></div><div class=\"sk-container\" hidden><div class=\"sk-item\"><div class=\"sk-estimator fitted sk-toggleable\"><input class=\"sk-toggleable__control sk-hidden--visually\" id=\"sk-estimator-id-1\" type=\"checkbox\" checked><label for=\"sk-estimator-id-1\" class=\"sk-toggleable__label fitted sk-toggleable__label-arrow fitted\">&nbsp;&nbsp;MultinomialNB<a class=\"sk-estimator-doc-link fitted\" rel=\"noreferrer\" target=\"_blank\" href=\"https://scikit-learn.org/1.4/modules/generated/sklearn.naive_bayes.MultinomialNB.html\">?<span>Documentation for MultinomialNB</span></a><span class=\"sk-estimator-doc-link fitted\">i<span>Fitted</span></span></label><div class=\"sk-toggleable__content fitted\"><pre>MultinomialNB()</pre></div> </div></div></div></div>"
      ]
     },
     "execution_count": 8,
     "metadata": {},
     "output_type": "execute_result"
    }
   ],
   "execution_count": 8
  },
  {
   "metadata": {
    "ExecuteTime": {
     "end_time": "2024-06-11T20:37:10.794498Z",
     "start_time": "2024-06-11T20:37:10.755447Z"
    }
   },
   "cell_type": "code",
   "source": [
    "# Test model\n",
    "y_preds = baseline_model.predict(test_vectors)\n",
    "y_preds"
   ],
   "id": "d3266b09f6267683",
   "outputs": [
    {
     "data": {
      "text/plain": [
       "array([1, 1, 0, ..., 0, 1, 1])"
      ]
     },
     "execution_count": 9,
     "metadata": {},
     "output_type": "execute_result"
    }
   ],
   "execution_count": 9
  },
  {
   "metadata": {
    "ExecuteTime": {
     "end_time": "2024-06-11T20:37:11.641069Z",
     "start_time": "2024-06-11T20:37:11.632333Z"
    }
   },
   "cell_type": "code",
   "source": [
    "# Calculate accuracy\n",
    "models_results = {} # dict to save all models accuracy metrics\n",
    "baseline_accuracy = np.mean(y_preds == test_labels)\n",
    "models_results[\"baseline\"] = baseline_accuracy\n",
    "baseline_accuracy"
   ],
   "id": "cedb6608eee7a44e",
   "outputs": [
    {
     "data": {
      "text/plain": [
       "0.82956"
      ]
     },
     "execution_count": 10,
     "metadata": {},
     "output_type": "execute_result"
    }
   ],
   "execution_count": 10
  },
  {
   "metadata": {},
   "cell_type": "markdown",
   "source": "Experiment 1",
   "id": "8effd26b325528a5"
  },
  {
   "metadata": {
    "ExecuteTime": {
     "end_time": "2024-06-11T20:37:24.959406Z",
     "start_time": "2024-06-11T20:37:13.277098Z"
    }
   },
   "cell_type": "code",
   "source": [
    "# Prepare data for the following experiments\n",
    "max_vocab_length = 10000\n",
    "max_seq_length = average_length\n",
    "\n",
    "tokenizer = tf.keras.preprocessing.text.Tokenizer(num_words=max_vocab_length)\n",
    "tokenizer.fit_on_texts(train_text)\n",
    "\n",
    "train_sequences = tokenizer.texts_to_sequences(train_text)\n",
    "train_padded = tf.keras.preprocessing.sequence.pad_sequences(train_sequences, maxlen=max_seq_length)\n",
    "\n",
    "test_sequences = tokenizer.texts_to_sequences(test_text)\n",
    "test_padded = tf.keras.preprocessing.sequence.pad_sequences(test_sequences, maxlen=max_seq_length)"
   ],
   "id": "31b44107b5660957",
   "outputs": [],
   "execution_count": 11
  },
  {
   "metadata": {
    "ExecuteTime": {
     "end_time": "2024-06-11T20:37:24.969827Z",
     "start_time": "2024-06-11T20:37:24.962169Z"
    }
   },
   "cell_type": "code",
   "source": [
    "# Print tokenized texts\n",
    "train_padded"
   ],
   "id": "bb5b9843dd3f3eb2",
   "outputs": [
    {
     "data": {
      "text/plain": [
       "array([[   0,    0,    0, ...,  866,  140,    9],\n",
       "       [   0,    0,    0, ...,   19,   30,   29],\n",
       "       [   0,    0,    0, ...,  416,    8, 6109],\n",
       "       ...,\n",
       "       [  97,    7,    7, ...,   15,   11,   28],\n",
       "       [   0,    0,    0, ...,   77, 1289,   22],\n",
       "       [   5, 1740,    1, ...,   31, 1662,  708]], dtype=int32)"
      ]
     },
     "execution_count": 12,
     "metadata": {},
     "output_type": "execute_result"
    }
   ],
   "execution_count": 12
  },
  {
   "metadata": {
    "ExecuteTime": {
     "end_time": "2024-06-11T20:37:25.152796Z",
     "start_time": "2024-06-11T20:37:24.972282Z"
    }
   },
   "cell_type": "code",
   "source": [
    "# Create optimized tokenized datasets\n",
    "train_dataset_tokenized = tf.data.Dataset.from_tensor_slices((train_padded, train_labels))\n",
    "train_dataset_tokenized = train_dataset_tokenized.batch(32).prefetch(tf.data.experimental.AUTOTUNE)\n",
    "\n",
    "test_dataset_tokenized = tf.data.Dataset.from_tensor_slices((test_padded, test_labels))\n",
    "test_dataset_tokenized = test_dataset_tokenized.batch(32).prefetch(tf.data.experimental.AUTOTUNE)"
   ],
   "id": "28eed515598d38c9",
   "outputs": [],
   "execution_count": 13
  },
  {
   "metadata": {
    "ExecuteTime": {
     "end_time": "2024-06-12T13:51:19.851372Z",
     "start_time": "2024-06-12T13:51:19.199373Z"
    }
   },
   "cell_type": "code",
   "source": [
    "# Create optimized non tokenized datasets\n",
    "train_dataset = tf.data.Dataset.from_tensor_slices((train_text, train_labels))\n",
    "train_dataset = train_dataset.batch(32).prefetch(tf.data.experimental.AUTOTUNE)\n",
    "\n",
    "test_dataset = tf.data.Dataset.from_tensor_slices((test_text, test_labels))\n",
    "test_dataset = test_dataset.batch(32).prefetch(tf.data.experimental.AUTOTUNE)"
   ],
   "id": "61609f8b2e1eae18",
   "outputs": [],
   "execution_count": 7
  },
  {
   "metadata": {
    "ExecuteTime": {
     "end_time": "2024-06-11T20:37:25.907753Z",
     "start_time": "2024-06-11T20:37:25.897395Z"
    }
   },
   "cell_type": "code",
   "source": [
    "# Setup mixed_precision\n",
    "tf.keras.mixed_precision.set_global_policy('mixed_float16')\n",
    "tf.keras.mixed_precision.global_policy()"
   ],
   "id": "6359d3d9242ce6ab",
   "outputs": [
    {
     "name": "stdout",
     "output_type": "stream",
     "text": [
      "INFO:tensorflow:Mixed precision compatibility check (mixed_float16): OK\n",
      "Your GPU will likely run quickly with dtype policy mixed_float16 as it has compute capability of at least 7.0. Your GPU: NVIDIA GeForce RTX 3080 Ti, compute capability 8.6\n"
     ]
    },
    {
     "name": "stderr",
     "output_type": "stream",
     "text": [
      "INFO:tensorflow:Mixed precision compatibility check (mixed_float16): OK\n",
      "Your GPU will likely run quickly with dtype policy mixed_float16 as it has compute capability of at least 7.0. Your GPU: NVIDIA GeForce RTX 3080 Ti, compute capability 8.6\n"
     ]
    },
    {
     "data": {
      "text/plain": [
       "<Policy \"mixed_float16\">"
      ]
     },
     "execution_count": 15,
     "metadata": {},
     "output_type": "execute_result"
    }
   ],
   "execution_count": 15
  },
  {
   "metadata": {
    "ExecuteTime": {
     "end_time": "2024-06-10T19:15:58.709534Z",
     "start_time": "2024-06-10T19:15:58.590275Z"
    }
   },
   "cell_type": "code",
   "source": [
    "# Create model for experiment 1\n",
    "model_1 = tf.keras.Sequential([\n",
    "    layers.Embedding(input_dim=max_vocab_length, output_dim=128, input_length=max_seq_length),\n",
    "    layers.GlobalAveragePooling1D(),\n",
    "    layers.Dropout(0.2),\n",
    "    layers.Dense(1),\n",
    "    layers.Activation('sigmoid', dtype=tf.float32)\n",
    "])\n",
    "\n",
    "model_1.compile(\n",
    "    loss='binary_crossentropy',\n",
    "    optimizer=\"adam\",\n",
    "    metrics=['accuracy']\n",
    ")"
   ],
   "id": "ad6eb23f3d348464",
   "outputs": [],
   "execution_count": 15
  },
  {
   "metadata": {
    "ExecuteTime": {
     "end_time": "2024-06-10T19:17:22.481834Z",
     "start_time": "2024-06-10T19:15:58.711497Z"
    }
   },
   "cell_type": "code",
   "source": [
    "# Fit model 1\n",
    "history_1 = model_1.fit(train_dataset,\n",
    "                    validation_data=test_dataset,\n",
    "                    validation_steps=int(0.1*len(test_dataset)),\n",
    "                    epochs=5)"
   ],
   "id": "27233bb9f7617c69",
   "outputs": [
    {
     "name": "stdout",
     "output_type": "stream",
     "text": [
      "Epoch 1/5\n",
      "  2/782 [..............................] - ETA: 1:18 - loss: 0.6959 - accuracy: 0.3594 "
     ]
    },
    {
     "name": "stderr",
     "output_type": "stream",
     "text": [
      "WARNING: All log messages before absl::InitializeLog() is called are written to STDERR\n",
      "I0000 00:00:1718046961.600279  172376 device_compiler.h:186] Compiled cluster using XLA!  This line is logged at most once for the lifetime of the process.\n"
     ]
    },
    {
     "name": "stdout",
     "output_type": "stream",
     "text": [
      "782/782 [==============================] - 45s 54ms/step - loss: 0.5301 - accuracy: 0.7814 - val_loss: 0.3836 - val_accuracy: 0.8562\n",
      "Epoch 2/5\n",
      "782/782 [==============================] - 10s 12ms/step - loss: 0.3111 - accuracy: 0.8848 - val_loss: 0.3115 - val_accuracy: 0.8774\n",
      "Epoch 3/5\n",
      "782/782 [==============================] - 10s 12ms/step - loss: 0.2462 - accuracy: 0.9088 - val_loss: 0.2951 - val_accuracy: 0.8862\n",
      "Epoch 4/5\n",
      "782/782 [==============================] - 10s 12ms/step - loss: 0.2106 - accuracy: 0.9224 - val_loss: 0.2937 - val_accuracy: 0.8834\n",
      "Epoch 5/5\n",
      "782/782 [==============================] - 10s 12ms/step - loss: 0.1857 - accuracy: 0.9336 - val_loss: 0.3001 - val_accuracy: 0.8834\n"
     ]
    }
   ],
   "execution_count": 16
  },
  {
   "metadata": {
    "ExecuteTime": {
     "end_time": "2024-06-10T19:17:26.357987Z",
     "start_time": "2024-06-10T19:17:22.483498Z"
    }
   },
   "cell_type": "code",
   "source": [
    "# Evaluate model\n",
    "accuracy = model_1.evaluate(test_dataset)[1]\n",
    "models_results[\"model_1\"] = accuracy\n",
    "accuracy"
   ],
   "id": "a2d7c54a9beea3cc",
   "outputs": [
    {
     "name": "stdout",
     "output_type": "stream",
     "text": [
      "782/782 [==============================] - 4s 5ms/step - loss: 0.2845 - accuracy: 0.8840\n"
     ]
    },
    {
     "data": {
      "text/plain": [
       "0.8839600086212158"
      ]
     },
     "execution_count": 17,
     "metadata": {},
     "output_type": "execute_result"
    }
   ],
   "execution_count": 17
  },
  {
   "metadata": {},
   "cell_type": "markdown",
   "source": "Experiment 2",
   "id": "9e6e2dcbeafff30f"
  },
  {
   "metadata": {
    "ExecuteTime": {
     "end_time": "2024-06-10T19:17:33.021271Z",
     "start_time": "2024-06-10T19:17:26.359980Z"
    }
   },
   "cell_type": "code",
   "source": [
    "# Import USE from tensorflow hub\n",
    "embedding_layer = hub.KerasLayer(\"https://tfhub.dev/google/universal-sentence-encoder/4\",\n",
    "                                 input_shape=[],\n",
    "                                 dtype=tf.string,\n",
    "                                 trainable=False)"
   ],
   "id": "6f14f987c7c60df0",
   "outputs": [],
   "execution_count": 18
  },
  {
   "metadata": {
    "ExecuteTime": {
     "end_time": "2024-06-10T19:20:07.296014Z",
     "start_time": "2024-06-10T19:20:07.185724Z"
    }
   },
   "cell_type": "code",
   "source": [
    "# Create model 2\n",
    "model_2 = tf.keras.Sequential([\n",
    "    embedding_layer,\n",
    "    layers.Dense(1),\n",
    "    layers.Activation('sigmoid', dtype=tf.float32)\n",
    "])\n",
    "\n",
    "model_2.compile(loss=\"binary_crossentropy\",\n",
    "                optimizer=\"adam\",\n",
    "                metrics=[\"accuracy\"])"
   ],
   "id": "10d15d3839abd38",
   "outputs": [],
   "execution_count": 21
  },
  {
   "metadata": {
    "ExecuteTime": {
     "end_time": "2024-06-10T19:24:17.319781Z",
     "start_time": "2024-06-10T19:20:31.732597Z"
    }
   },
   "cell_type": "code",
   "source": [
    "# Fit model 2\n",
    "history_2 = model_2.fit(np.array(train_text), np.array(train_labels),\n",
    "                        validation_data=(np.array(test_text), np.array(test_labels)),\n",
    "                        validation_steps=int(0.1*(len(test_text)/32)),\n",
    "                        epochs=5,\n",
    "                        batch_size=32)"
   ],
   "id": "15d5948ce9c565f2",
   "outputs": [
    {
     "name": "stdout",
     "output_type": "stream",
     "text": [
      "Epoch 1/5\n",
      "782/782 [==============================] - 48s 59ms/step - loss: 0.5869 - accuracy: 0.7940 - val_loss: 0.5094 - val_accuracy: 0.8221\n",
      "Epoch 2/5\n",
      "782/782 [==============================] - 45s 57ms/step - loss: 0.4694 - accuracy: 0.8308 - val_loss: 0.4348 - val_accuracy: 0.8369\n",
      "Epoch 3/5\n",
      "782/782 [==============================] - 44s 56ms/step - loss: 0.4176 - accuracy: 0.8397 - val_loss: 0.3973 - val_accuracy: 0.8450\n",
      "Epoch 4/5\n",
      "782/782 [==============================] - 44s 56ms/step - loss: 0.3894 - accuracy: 0.8444 - val_loss: 0.3754 - val_accuracy: 0.8530\n",
      "Epoch 5/5\n",
      "782/782 [==============================] - 44s 56ms/step - loss: 0.3719 - accuracy: 0.8478 - val_loss: 0.3613 - val_accuracy: 0.8554\n"
     ]
    }
   ],
   "execution_count": 22
  },
  {
   "metadata": {
    "ExecuteTime": {
     "end_time": "2024-06-10T19:34:37.447613Z",
     "start_time": "2024-06-10T19:33:58.526478Z"
    }
   },
   "cell_type": "code",
   "source": [
    "# Evaluate model 2\n",
    "accuracy_2 = model_2.evaluate(np.array(test_text), np.array(test_labels))\n",
    "models_results[\"model_2\"] = accuracy_2\n",
    "accuracy_2"
   ],
   "id": "5cbf2ba802b8a326",
   "outputs": [
    {
     "name": "stdout",
     "output_type": "stream",
     "text": [
      "782/782 [==============================] - 38s 48ms/step - loss: 0.3652 - accuracy: 0.8482\n"
     ]
    },
    {
     "data": {
      "text/plain": [
       "[0.36524835228919983, 0.8482400178909302]"
      ]
     },
     "execution_count": 23,
     "metadata": {},
     "output_type": "execute_result"
    }
   ],
   "execution_count": 23
  },
  {
   "metadata": {},
   "cell_type": "markdown",
   "source": "Experiment 3",
   "id": "20704d3bbd466c7"
  },
  {
   "metadata": {
    "ExecuteTime": {
     "end_time": "2024-06-12T13:52:50.733281Z",
     "start_time": "2024-06-12T13:52:22.907844Z"
    }
   },
   "cell_type": "code",
   "source": [
    "# Create model with BERT\n",
    "text_input = tf.keras.layers.Input(shape=[], dtype=tf.string)\n",
    "preprocessor = hub.KerasLayer(\n",
    "    \"https://kaggle.com/models/tensorflow/bert/frameworks/TensorFlow2/variations/en-uncased-preprocess/versions/3\")\n",
    "encoder_inputs = preprocessor(text_input)\n",
    "encoder = hub.KerasLayer(\n",
    "    \"https://www.kaggle.com/models/tensorflow/bert/frameworks/TensorFlow2/variations/en-uncased-l-12-h-768-a-12/versions/4\",\n",
    "    trainable=False)\n",
    "outputs = encoder(encoder_inputs)\n",
    "pooled_output = outputs[\"pooled_output\"]      # [batch_size, 768].\n",
    "sequence_output = outputs[\"sequence_output\"]  # [batch_size, seq_length, 768].\n",
    "\n",
    "x = tf.keras.layers.Dropout(0.2)(pooled_output)\n",
    "x = tf.keras.layers.Dense(64, activation=\"relu\")(x)\n",
    "x = tf.keras.layers.Dense(1)(x)\n",
    "output = tf.keras.layers.Activation(\"sigmoid\", dtype=tf.float32)(x)\n",
    "\n",
    "model_3 = tf.keras.Model(text_input, output)"
   ],
   "id": "a3c0ca347cc752fe",
   "outputs": [],
   "execution_count": 8
  },
  {
   "metadata": {
    "ExecuteTime": {
     "end_time": "2024-06-12T14:10:32.618077Z",
     "start_time": "2024-06-12T13:52:50.735393Z"
    }
   },
   "cell_type": "code",
   "source": [
    "model_3.compile(optimizer='adam', loss='binary_crossentropy', metrics=['accuracy'])\n",
    "history_3 = model_3.fit(train_dataset,\n",
    "                        validation_data=test_dataset,\n",
    "                        validation_steps=int(0.1*len(test_dataset)),\n",
    "                        epochs=5)"
   ],
   "id": "c62502960621cc6d",
   "outputs": [
    {
     "name": "stdout",
     "output_type": "stream",
     "text": [
      "Epoch 1/5\n"
     ]
    },
    {
     "name": "stderr",
     "output_type": "stream",
     "text": [
      "WARNING: All log messages before absl::InitializeLog() is called are written to STDERR\n",
      "I0000 00:00:1718200384.250002   18648 device_compiler.h:186] Compiled cluster using XLA!  This line is logged at most once for the lifetime of the process.\n"
     ]
    },
    {
     "name": "stdout",
     "output_type": "stream",
     "text": [
      "782/782 [==============================] - 225s 270ms/step - loss: 0.6020 - accuracy: 0.6728 - val_loss: 0.5261 - val_accuracy: 0.7460\n",
      "Epoch 2/5\n",
      "782/782 [==============================] - 211s 269ms/step - loss: 0.5550 - accuracy: 0.7197 - val_loss: 0.5111 - val_accuracy: 0.7608\n",
      "Epoch 3/5\n",
      "782/782 [==============================] - 210s 268ms/step - loss: 0.5510 - accuracy: 0.7249 - val_loss: 0.5035 - val_accuracy: 0.7632\n",
      "Epoch 4/5\n",
      "782/782 [==============================] - 208s 266ms/step - loss: 0.5455 - accuracy: 0.7239 - val_loss: 0.5015 - val_accuracy: 0.7676\n",
      "Epoch 5/5\n",
      "782/782 [==============================] - 209s 267ms/step - loss: 0.5412 - accuracy: 0.7278 - val_loss: 0.4891 - val_accuracy: 0.7700\n"
     ]
    }
   ],
   "execution_count": 9
  },
  {
   "metadata": {
    "ExecuteTime": {
     "end_time": "2024-06-12T14:20:07.641676Z",
     "start_time": "2024-06-12T14:17:00.747749Z"
    }
   },
   "cell_type": "code",
   "source": [
    "# Evaulate model 3\n",
    "accuracy_3 = model_3.evaluate(test_dataset)[1]\n",
    "models_results[\"model_3\"] = accuracy_3\n",
    "accuracy_3"
   ],
   "id": "50ac586689fa4f14",
   "outputs": [
    {
     "name": "stdout",
     "output_type": "stream",
     "text": [
      "782/782 [==============================] - 187s 239ms/step - loss: 0.4907 - accuracy: 0.7652\n"
     ]
    },
    {
     "ename": "NameError",
     "evalue": "name 'models_results' is not defined",
     "output_type": "error",
     "traceback": [
      "\u001B[0;31m---------------------------------------------------------------------------\u001B[0m",
      "\u001B[0;31mNameError\u001B[0m                                 Traceback (most recent call last)",
      "Cell \u001B[0;32mIn[10], line 3\u001B[0m\n\u001B[1;32m      1\u001B[0m \u001B[38;5;66;03m# Evaulate model 3\u001B[39;00m\n\u001B[1;32m      2\u001B[0m accuracy_3 \u001B[38;5;241m=\u001B[39m model_3\u001B[38;5;241m.\u001B[39mevaluate(test_dataset)[\u001B[38;5;241m1\u001B[39m]\n\u001B[0;32m----> 3\u001B[0m \u001B[43mmodels_results\u001B[49m[\u001B[38;5;124m\"\u001B[39m\u001B[38;5;124mmodel_3\u001B[39m\u001B[38;5;124m\"\u001B[39m] \u001B[38;5;241m=\u001B[39m accuracy_3\n\u001B[1;32m      4\u001B[0m accuracy_3\n",
      "\u001B[0;31mNameError\u001B[0m: name 'models_results' is not defined"
     ]
    }
   ],
   "execution_count": 10
  },
  {
   "metadata": {},
   "cell_type": "code",
   "outputs": [],
   "execution_count": null,
   "source": "",
   "id": "32b17c1a657639a3"
  }
 ],
 "metadata": {
  "kernelspec": {
   "display_name": "Python 3",
   "language": "python",
   "name": "python3"
  },
  "language_info": {
   "codemirror_mode": {
    "name": "ipython",
    "version": 2
   },
   "file_extension": ".py",
   "mimetype": "text/x-python",
   "name": "python",
   "nbconvert_exporter": "python",
   "pygments_lexer": "ipython2",
   "version": "2.7.6"
  }
 },
 "nbformat": 4,
 "nbformat_minor": 5
}
